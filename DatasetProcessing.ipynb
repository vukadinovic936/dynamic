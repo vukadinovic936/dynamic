{
 "cells": [
  {
   "cell_type": "code",
   "execution_count": null,
   "metadata": {},
   "outputs": [],
   "source": [
    "import torch\n",
    "import echonet\n",
    "from echonet.utils.segmentation_rv import run as run1\n",
    "from echonet.utils.video_rv import run as run2\n",
    "from tqdm import tqdm\n",
    "import numpy as np\n",
    "# Set device for computations\n",
    "\n",
    "device = torch.device(\"cuda:0\" if torch.cuda.is_available() else \"cpu\")\n",
    "# Set up model\n",
    "print(device)\n",
    "dataset = echonet.datasets.Echo_RV_Video(split=\"train\",length=20)\n",
    "dataloader = torch.utils.data.DataLoader(dataset, batch_size=8, num_workers=4, shuffle=True)\n",
    "n = 0  \n",
    "s1 = 0.\n",
    "s2 = 0.\n",
    "for (x,ef) in tqdm(dataloader):\n",
    "        x = x.transpose(0, 1).contiguous().view(3, -1)\n",
    "        n += x.shape[1]\n",
    "        s1 += torch.sum(x, dim=1).numpy()\n",
    "        s2 += torch.sum(x ** 2, dim=1).numpy()\n",
    "        mean = s1 / n  # type: np.ndarray\n",
    "        std = np.sqrt(s2 / n - mean ** 2)  # type: np.ndarray\n",
    "\n",
    "        mean = mean.astype(np.float32)\n",
    "        std = std.astype(np.float32)\n",
    "        break "
   ]
  },
  {
   "cell_type": "code",
   "execution_count": null,
   "metadata": {},
   "outputs": [],
   "source": [
    "dataset = echonet.datasets.Echo_RV_Video(split=\"train\",length=20)\n",
    "dataloader = torch.utils.data.DataLoader(dataset, batch_size=8, num_workers=4, shuffle=True)\n",
    "n = 0  \n",
    "s1 = 0.\n",
    "s2 = 0.\n",
    "for (x,ef) in tqdm(dataloader):\n",
    "        x = x.transpose(0, 1).contiguous().view(3, -1)\n",
    "        n += x.shape[1]\n",
    "        s1 += torch.sum(x, dim=1).numpy()\n",
    "        s2 += torch.sum(x ** 2, dim=1).numpy()\n",
    "        mean = s1 / n  # type: np.ndarray\n",
    "        std = np.sqrt(s2 / n - mean ** 2)  # type: np.ndarray\n",
    "\n",
    "        mean = mean.astype(np.float32)\n",
    "        std = std.astype(np.float32)\n",
    "        break "
   ]
  },
  {
   "cell_type": "code",
   "execution_count": null,
   "metadata": {},
   "outputs": [],
   "source": [
    "for i in mask:\n",
    "    plt.imshow(i[0])\n",
    "    plt.show()\n",
    "    plt.imshow(i[1])\n",
    "    plt.show()\n",
    "    print(\"######### NEW ##########\")"
   ]
  },
  {
   "cell_type": "code",
   "execution_count": null,
   "metadata": {},
   "outputs": [],
   "source": [
    "for i in range(len(mask)):\n",
    "    print(np.abs(np.sum(np.array(mask[i,0]>0)) - np.sum(np.array(mask[i,1]>0))))"
   ]
  },
  {
   "cell_type": "code",
   "execution_count": 11,
   "metadata": {},
   "outputs": [
    {
     "data": {
      "text/plain": [
       "torch.Size([3, 2007040])"
      ]
     },
     "execution_count": 11,
     "metadata": {},
     "output_type": "execute_result"
    }
   ],
   "source": [
    "x.shape"
   ]
  },
  {
   "cell_type": "code",
   "execution_count": null,
   "metadata": {},
   "outputs": [],
   "source": []
  }
 ],
 "metadata": {
  "kernelspec": {
   "display_name": "Python 3",
   "language": "python",
   "name": "python3"
  },
  "language_info": {
   "codemirror_mode": {
    "name": "ipython",
    "version": 3
   },
   "file_extension": ".py",
   "mimetype": "text/x-python",
   "name": "python",
   "nbconvert_exporter": "python",
   "pygments_lexer": "ipython3",
   "version": "3.8.5"
  }
 },
 "nbformat": 4,
 "nbformat_minor": 4
}
